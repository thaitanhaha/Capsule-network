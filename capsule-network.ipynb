{
 "cells": [
  {
   "cell_type": "code",
   "execution_count": 1,
   "id": "9da36d83",
   "metadata": {
    "_cell_guid": "b1076dfc-b9ad-4769-8c92-a6c4dae69d19",
    "_uuid": "8f2839f25d086af736a60e9eeb907d3b93b6e0e5",
    "execution": {
     "iopub.execute_input": "2025-03-12T18:39:08.997790Z",
     "iopub.status.busy": "2025-03-12T18:39:08.997591Z",
     "iopub.status.idle": "2025-03-12T18:39:16.001946Z",
     "shell.execute_reply": "2025-03-12T18:39:16.001028Z"
    },
    "papermill": {
     "duration": 7.009412,
     "end_time": "2025-03-12T18:39:16.003606",
     "exception": false,
     "start_time": "2025-03-12T18:39:08.994194",
     "status": "completed"
    },
    "tags": []
   },
   "outputs": [],
   "source": [
    "import torch\n",
    "import torch.nn as nn\n",
    "import torch.nn.functional as F\n",
    "from torch.autograd import Variable\n",
    "from torch.utils.data import Subset\n",
    "from torch.utils.data import DataLoader\n",
    "from collections import Counter\n",
    "from torch.optim import Adam\n",
    "from torchvision import datasets, transforms\n",
    "import numpy as np\n",
    "import matplotlib.pyplot as plt"
   ]
  },
  {
   "cell_type": "code",
   "execution_count": 2,
   "id": "872af9e5",
   "metadata": {
    "execution": {
     "iopub.execute_input": "2025-03-12T18:39:16.009665Z",
     "iopub.status.busy": "2025-03-12T18:39:16.009352Z",
     "iopub.status.idle": "2025-03-12T18:39:20.007072Z",
     "shell.execute_reply": "2025-03-12T18:39:20.006079Z"
    },
    "papermill": {
     "duration": 4.002024,
     "end_time": "2025-03-12T18:39:20.008505",
     "exception": false,
     "start_time": "2025-03-12T18:39:16.006481",
     "status": "completed"
    },
    "tags": []
   },
   "outputs": [
    {
     "name": "stdout",
     "output_type": "stream",
     "text": [
      "Downloading http://yann.lecun.com/exdb/mnist/train-images-idx3-ubyte.gz\n",
      "Failed to download (trying next):\n",
      "HTTP Error 404: Not Found\n",
      "\n",
      "Downloading https://ossci-datasets.s3.amazonaws.com/mnist/train-images-idx3-ubyte.gz\n",
      "Downloading https://ossci-datasets.s3.amazonaws.com/mnist/train-images-idx3-ubyte.gz to ./data/MNIST/raw/train-images-idx3-ubyte.gz\n"
     ]
    },
    {
     "name": "stderr",
     "output_type": "stream",
     "text": [
      "100%|██████████| 9.91M/9.91M [00:00<00:00, 14.4MB/s]\n"
     ]
    },
    {
     "name": "stdout",
     "output_type": "stream",
     "text": [
      "Extracting ./data/MNIST/raw/train-images-idx3-ubyte.gz to ./data/MNIST/raw\n",
      "\n",
      "Downloading http://yann.lecun.com/exdb/mnist/train-labels-idx1-ubyte.gz\n",
      "Failed to download (trying next):\n",
      "HTTP Error 404: Not Found\n",
      "\n",
      "Downloading https://ossci-datasets.s3.amazonaws.com/mnist/train-labels-idx1-ubyte.gz\n",
      "Downloading https://ossci-datasets.s3.amazonaws.com/mnist/train-labels-idx1-ubyte.gz to ./data/MNIST/raw/train-labels-idx1-ubyte.gz\n"
     ]
    },
    {
     "name": "stderr",
     "output_type": "stream",
     "text": [
      "100%|██████████| 28.9k/28.9k [00:00<00:00, 471kB/s]\n"
     ]
    },
    {
     "name": "stdout",
     "output_type": "stream",
     "text": [
      "Extracting ./data/MNIST/raw/train-labels-idx1-ubyte.gz to ./data/MNIST/raw\n",
      "\n",
      "Downloading http://yann.lecun.com/exdb/mnist/t10k-images-idx3-ubyte.gz\n",
      "Failed to download (trying next):\n",
      "HTTP Error 404: Not Found\n",
      "\n",
      "Downloading https://ossci-datasets.s3.amazonaws.com/mnist/t10k-images-idx3-ubyte.gz\n",
      "Downloading https://ossci-datasets.s3.amazonaws.com/mnist/t10k-images-idx3-ubyte.gz to ./data/MNIST/raw/t10k-images-idx3-ubyte.gz\n"
     ]
    },
    {
     "name": "stderr",
     "output_type": "stream",
     "text": [
      "100%|██████████| 1.65M/1.65M [00:00<00:00, 4.42MB/s]\n"
     ]
    },
    {
     "name": "stdout",
     "output_type": "stream",
     "text": [
      "Extracting ./data/MNIST/raw/t10k-images-idx3-ubyte.gz to ./data/MNIST/raw\n",
      "\n",
      "Downloading http://yann.lecun.com/exdb/mnist/t10k-labels-idx1-ubyte.gz\n",
      "Failed to download (trying next):\n",
      "HTTP Error 404: Not Found\n",
      "\n",
      "Downloading https://ossci-datasets.s3.amazonaws.com/mnist/t10k-labels-idx1-ubyte.gz\n",
      "Downloading https://ossci-datasets.s3.amazonaws.com/mnist/t10k-labels-idx1-ubyte.gz to ./data/MNIST/raw/t10k-labels-idx1-ubyte.gz\n"
     ]
    },
    {
     "name": "stderr",
     "output_type": "stream",
     "text": [
      "100%|██████████| 4.54k/4.54k [00:00<00:00, 6.36MB/s]"
     ]
    },
    {
     "name": "stdout",
     "output_type": "stream",
     "text": [
      "Extracting ./data/MNIST/raw/t10k-labels-idx1-ubyte.gz to ./data/MNIST/raw\n",
      "\n"
     ]
    },
    {
     "name": "stderr",
     "output_type": "stream",
     "text": [
      "\n"
     ]
    }
   ],
   "source": [
    "transform = transforms.Compose([\n",
    "    transforms.ToTensor(),\n",
    "    transforms.Normalize((0.5,), (0.5,))\n",
    "])\n",
    "\n",
    "train_dataset = datasets.MNIST(root='./data', train=True, download=True, transform=transform)\n",
    "test_dataset = datasets.MNIST(root='./data', train=False, download=True, transform=transform)\n",
    "\n",
    "subset_indices = list(range(1280))\n",
    "train_dataset = Subset(train_dataset, subset_indices)\n",
    "test_dataset = Subset(test_dataset, subset_indices)\n",
    "\n",
    "train_loader = DataLoader(train_dataset, batch_size=128, shuffle=True)\n",
    "test_loader = DataLoader(test_dataset, batch_size=128, shuffle=True)\n",
    "\n",
    "device = torch.device(\"cuda\" if torch.cuda.is_available() else \"cpu\")"
   ]
  },
  {
   "cell_type": "code",
   "execution_count": 3,
   "id": "9f95ddd6",
   "metadata": {
    "execution": {
     "iopub.execute_input": "2025-03-12T18:39:20.017261Z",
     "iopub.status.busy": "2025-03-12T18:39:20.017029Z",
     "iopub.status.idle": "2025-03-12T18:39:20.513286Z",
     "shell.execute_reply": "2025-03-12T18:39:20.512590Z"
    },
    "papermill": {
     "duration": 0.501976,
     "end_time": "2025-03-12T18:39:20.514596",
     "exception": false,
     "start_time": "2025-03-12T18:39:20.012620",
     "status": "completed"
    },
    "tags": []
   },
   "outputs": [
    {
     "name": "stdout",
     "output_type": "stream",
     "text": [
      "Digit 1: 152\n",
      "Digit 7: 150\n",
      "Digit 0: 119\n",
      "Digit 9: 127\n",
      "Digit 5: 112\n",
      "Digit 8: 115\n",
      "Digit 3: 119\n",
      "Digit 4: 142\n",
      "Digit 6: 118\n",
      "Digit 2: 126\n",
      "--------\n",
      "Digit 2: 144\n",
      "Digit 9: 119\n",
      "Digit 4: 146\n",
      "Digit 3: 133\n",
      "Digit 0: 109\n",
      "Digit 6: 109\n",
      "Digit 8: 118\n",
      "Digit 1: 157\n",
      "Digit 7: 131\n",
      "Digit 5: 114\n"
     ]
    }
   ],
   "source": [
    "digit_counter = Counter()\n",
    "for images, labels in train_loader:\n",
    "    digit_counter.update(labels.numpy())\n",
    "for digit, count in digit_counter.items():\n",
    "    print(f\"Digit {digit}: {count}\")\n",
    "\n",
    "print('--------')\n",
    "\n",
    "digit_counter = Counter()\n",
    "for images, labels in test_loader:\n",
    "    digit_counter.update(labels.numpy())\n",
    "for digit, count in digit_counter.items():\n",
    "    print(f\"Digit {digit}: {count}\")"
   ]
  },
  {
   "cell_type": "code",
   "execution_count": 4,
   "id": "b8420cff",
   "metadata": {
    "execution": {
     "iopub.execute_input": "2025-03-12T18:39:20.523243Z",
     "iopub.status.busy": "2025-03-12T18:39:20.522991Z",
     "iopub.status.idle": "2025-03-12T18:39:20.539063Z",
     "shell.execute_reply": "2025-03-12T18:39:20.538232Z"
    },
    "papermill": {
     "duration": 0.021654,
     "end_time": "2025-03-12T18:39:20.540223",
     "exception": false,
     "start_time": "2025-03-12T18:39:20.518569",
     "status": "completed"
    },
    "tags": []
   },
   "outputs": [],
   "source": [
    "def debug_print(debug, message, tensor=None):\n",
    "    if debug:\n",
    "        if tensor is not None:\n",
    "            print(f\"{message}: {tensor.shape}\")\n",
    "        else:\n",
    "            print(message)\n",
    "\n",
    "def squash(input_tensor, epsilon=1e-7):\n",
    "    squared_norm = (input_tensor ** 2 + epsilon).sum(-1, keepdim=True)\n",
    "    output_tensor = (squared_norm / (1. + squared_norm)) *  (input_tensor / torch.sqrt(squared_norm))\n",
    "    return output_tensor\n",
    "\n",
    "class ConvLayer(nn.Module):\n",
    "    def __init__(self, in_channels=1, out_channels=256, kernel_size=9, debug=False):\n",
    "        super(ConvLayer, self).__init__()\n",
    "        self.conv = nn.Conv2d(in_channels=in_channels, out_channels=out_channels, kernel_size=kernel_size, stride=1)\n",
    "        self.debug = debug\n",
    "\n",
    "    def forward(self, x):\n",
    "        x = self.conv(x)\n",
    "        debug_print(self.debug, \"x after conv\", x)\n",
    "        x = F.relu(x)\n",
    "        debug_print(self.debug, \"x after ReLU\", x)\n",
    "        return x\n",
    "\n",
    "\n",
    "class PrimaryCaps(nn.Module):\n",
    "    def __init__(self, num_capsules=8, in_channels=256, out_channels=32, kernel_size=9, debug=False):\n",
    "        super(PrimaryCaps, self).__init__()\n",
    "        self.capsules = nn.ModuleList()\n",
    "        for _ in range(num_capsules):\n",
    "            capsule = nn.Conv2d(in_channels=in_channels, out_channels=out_channels, kernel_size=kernel_size, stride=2, padding=0)\n",
    "            self.capsules.append(capsule)\n",
    "        self.debug = debug\n",
    "    \n",
    "    def forward(self, x):\n",
    "        stacked_capsules = [capsule(x) for capsule in self.capsules]\n",
    "        if self.debug: \n",
    "            print(\"capsule_out:\")\n",
    "            for capsule_out in stacked_capsules:\n",
    "                print(\"\\t\", capsule_out.shape)\n",
    "        stacked_capsules = torch.stack(stacked_capsules, dim=1)\n",
    "        debug_print(self.debug, \"stacked_capsules\", stacked_capsules)\n",
    "        flattened_capsules = stacked_capsules.view(x.size(0), 32 * 6 * 6, -1)\n",
    "        debug_print(self.debug, \"flattened_capsules\", flattened_capsules)\n",
    "        squashed_output = squash(flattened_capsules)\n",
    "        debug_print(self.debug, \"squashed_output\", squashed_output)\n",
    "        return squashed_output\n",
    "\n",
    "\n",
    "class DigitCaps(nn.Module):\n",
    "    def __init__(self, num_capsules=10, num_routes=32 * 6 * 6, in_channels=8, out_channels=16, debug=False):\n",
    "        super(DigitCaps, self).__init__()\n",
    "        self.in_channels = in_channels\n",
    "        self.num_routes = num_routes\n",
    "        self.num_capsules = num_capsules\n",
    "        self.W = nn.Parameter(torch.randn(1, num_routes, num_capsules, out_channels, in_channels))\n",
    "        self.debug = debug\n",
    "\n",
    "    def forward(self, x):\n",
    "        batch_size = x.size(0)\n",
    "        x = torch.stack([x] * self.num_capsules, dim=2).unsqueeze(4)\n",
    "        debug_print(self.debug, \"x after stacking\", x)\n",
    "\n",
    "        W = torch.cat([self.W] * batch_size, dim=0)\n",
    "        debug_print(self.debug, \"W\", W)\n",
    "        \n",
    "        u_hat = torch.matmul(W, x)\n",
    "        debug_print(self.debug, \"u_hat\", u_hat)\n",
    "\n",
    "        b_ij = Variable(torch.zeros(1, self.num_routes, self.num_capsules, 1))\n",
    "        b_ij = b_ij.to(device)\n",
    "        debug_print(self.debug, \"b_ij\", b_ij)\n",
    "\n",
    "        num_iter = 3\n",
    "        for i in range(num_iter):\n",
    "            if self.debug: print()\n",
    "            c_ij = F.softmax(b_ij, dim=1)\n",
    "            debug_print(self.debug, \"c_ij\", c_ij)\n",
    "            c_ij = torch.cat([c_ij] * batch_size, dim=0).unsqueeze(4)\n",
    "            debug_print(self.debug, \"c_ij after repeat\", c_ij)\n",
    "\n",
    "            s_j = (c_ij * u_hat).sum(dim=1, keepdim=True)\n",
    "            debug_print(self.debug, \"s_j\", s_j)\n",
    "\n",
    "            v_j = squash(s_j)\n",
    "            debug_print(self.debug, \"v_j\", v_j)\n",
    "            \n",
    "            a_ij = torch.matmul(u_hat.transpose(3, 4), torch.cat([v_j] * self.num_routes, dim=1))\n",
    "            debug_print(self.debug, \"a_ij\", a_ij)\n",
    "            b_ij = b_ij + a_ij.squeeze(4).mean(dim=0, keepdim=True)\n",
    "            debug_print(self.debug, \"b_ij updated\", b_ij)\n",
    "\n",
    "        return v_j.squeeze(1)\n",
    "\n",
    "class Decoder(nn.Module):\n",
    "    def __init__(self, debug=False):\n",
    "        super(Decoder, self).__init__()\n",
    "        self.debug = debug\n",
    "        \n",
    "    def forward(self, x, data):\n",
    "        classes = torch.sqrt((x ** 2).sum(2))\n",
    "        debug_print(self.debug, \"classes before softmax\", classes)\n",
    "        classes = F.softmax(classes, dim=0)\n",
    "        debug_print(self.debug, \"classes after softmax\", classes)\n",
    "        \n",
    "        _, max_length_indices = classes.max(dim=1)\n",
    "        debug_print(self.debug, \"max_length_indices\", max_length_indices)\n",
    "        masked = Variable(torch.sparse.torch.eye(10))\n",
    "        debug_print(self.debug, \"masked\", masked)\n",
    "        masked = masked.to(device)\n",
    "        masked = masked.index_select(dim=0, index=Variable(max_length_indices.squeeze(1).data))\n",
    "        debug_print(self.debug, \"masked after index_select\", masked)\n",
    "        \n",
    "        return masked\n"
   ]
  },
  {
   "cell_type": "code",
   "execution_count": 5,
   "id": "d748e847",
   "metadata": {
    "execution": {
     "iopub.execute_input": "2025-03-12T18:39:20.548194Z",
     "iopub.status.busy": "2025-03-12T18:39:20.547970Z",
     "iopub.status.idle": "2025-03-12T18:39:20.554189Z",
     "shell.execute_reply": "2025-03-12T18:39:20.553393Z"
    },
    "papermill": {
     "duration": 0.011595,
     "end_time": "2025-03-12T18:39:20.555452",
     "exception": false,
     "start_time": "2025-03-12T18:39:20.543857",
     "status": "completed"
    },
    "tags": []
   },
   "outputs": [],
   "source": [
    "class CapsuleNet(nn.Module):\n",
    "    def __init__(self, debug=False):\n",
    "        super(CapsuleNet, self).__init__()\n",
    "        self.conv_layer = ConvLayer(debug=debug)\n",
    "        self.primary_capsules = PrimaryCaps(debug=debug)\n",
    "        self.digit_capsules = DigitCaps(debug=debug)\n",
    "        self.decoder = Decoder(debug=debug)\n",
    "        self.mse_loss = nn.MSELoss()\n",
    "        self.debug = debug\n",
    "        \n",
    "    def forward(self, data):\n",
    "        debug_print(self.debug, f\"Input data\", data)\n",
    "        debug_print(self.debug, \"\\nCONV\")\n",
    "        output = self.conv_layer(data)\n",
    "        debug_print(self.debug, \"\\nPRIMARY\")\n",
    "        output = self.primary_capsules(output)\n",
    "        debug_print(self.debug, \"\\nDIGIT\")\n",
    "        output = self.digit_capsules(output)\n",
    "        debug_print(self.debug, \"\\nDECODER\")\n",
    "        masked = self.decoder(output, data)\n",
    "        debug_print(self.debug, \"\\nOUTPUT\", output)\n",
    "        return output, masked\n",
    "\n",
    "    def loss(self, x, target):\n",
    "        return self.margin_loss(x, target)\n",
    "    \n",
    "    def margin_loss(self, x, labels):\n",
    "        batch_size = x.size(0)\n",
    "        v_k = torch.sqrt((x**2).sum(dim=2, keepdim=True))\n",
    "        left = F.relu(0.9 - v_k).view(batch_size, -1)\n",
    "        right = F.relu(v_k - 0.1).view(batch_size, -1)\n",
    "        loss = labels * left + 0.5 * (1.0 - labels) * right\n",
    "        loss = loss.sum(dim=1).mean()\n",
    "        return loss"
   ]
  },
  {
   "cell_type": "code",
   "execution_count": 6,
   "id": "57a07a46",
   "metadata": {
    "execution": {
     "iopub.execute_input": "2025-03-12T18:39:20.563621Z",
     "iopub.status.busy": "2025-03-12T18:39:20.563426Z",
     "iopub.status.idle": "2025-03-12T18:39:21.774541Z",
     "shell.execute_reply": "2025-03-12T18:39:21.773732Z"
    },
    "papermill": {
     "duration": 1.21654,
     "end_time": "2025-03-12T18:39:21.775779",
     "exception": false,
     "start_time": "2025-03-12T18:39:20.559239",
     "status": "completed"
    },
    "tags": []
   },
   "outputs": [
    {
     "name": "stdout",
     "output_type": "stream",
     "text": [
      "Input data: torch.Size([128, 1, 28, 28])\n",
      "\n",
      "CONV\n",
      "x after conv: torch.Size([128, 256, 20, 20])\n",
      "x after ReLU: torch.Size([128, 256, 20, 20])\n",
      "\n",
      "PRIMARY\n",
      "capsule_out:\n",
      "\t torch.Size([128, 32, 6, 6])\n",
      "\t torch.Size([128, 32, 6, 6])\n",
      "\t torch.Size([128, 32, 6, 6])\n",
      "\t torch.Size([128, 32, 6, 6])\n",
      "\t torch.Size([128, 32, 6, 6])\n",
      "\t torch.Size([128, 32, 6, 6])\n",
      "\t torch.Size([128, 32, 6, 6])\n",
      "\t torch.Size([128, 32, 6, 6])\n",
      "stacked_capsules: torch.Size([128, 8, 32, 6, 6])\n",
      "flattened_capsules: torch.Size([128, 1152, 8])\n",
      "squashed_output: torch.Size([128, 1152, 8])\n",
      "\n",
      "DIGIT\n",
      "x after stacking: torch.Size([128, 1152, 10, 8, 1])\n",
      "W: torch.Size([128, 1152, 10, 16, 8])\n",
      "u_hat: torch.Size([128, 1152, 10, 16, 1])\n",
      "b_ij: torch.Size([1, 1152, 10, 1])\n",
      "\n",
      "c_ij: torch.Size([1, 1152, 10, 1])\n",
      "c_ij after repeat: torch.Size([128, 1152, 10, 1, 1])\n",
      "s_j: torch.Size([128, 1, 10, 16, 1])\n",
      "v_j: torch.Size([128, 1, 10, 16, 1])\n",
      "a_ij: torch.Size([128, 1152, 10, 1, 1])\n",
      "b_ij updated: torch.Size([1, 1152, 10, 1])\n",
      "\n",
      "c_ij: torch.Size([1, 1152, 10, 1])\n",
      "c_ij after repeat: torch.Size([128, 1152, 10, 1, 1])\n",
      "s_j: torch.Size([128, 1, 10, 16, 1])\n",
      "v_j: torch.Size([128, 1, 10, 16, 1])\n",
      "a_ij: torch.Size([128, 1152, 10, 1, 1])\n",
      "b_ij updated: torch.Size([1, 1152, 10, 1])\n",
      "\n",
      "c_ij: torch.Size([1, 1152, 10, 1])\n",
      "c_ij after repeat: torch.Size([128, 1152, 10, 1, 1])\n",
      "s_j: torch.Size([128, 1, 10, 16, 1])\n",
      "v_j: torch.Size([128, 1, 10, 16, 1])\n",
      "a_ij: torch.Size([128, 1152, 10, 1, 1])\n",
      "b_ij updated: torch.Size([1, 1152, 10, 1])\n",
      "\n",
      "DECODER\n",
      "classes before softmax: torch.Size([128, 10, 1])\n",
      "classes after softmax: torch.Size([128, 10, 1])\n",
      "max_length_indices: torch.Size([128, 1])\n",
      "masked: torch.Size([10, 10])\n",
      "masked after index_select: torch.Size([128, 10])\n",
      "\n",
      "OUTPUT: torch.Size([128, 10, 16, 1])\n"
     ]
    }
   ],
   "source": [
    "capsule_net = CapsuleNet(debug=True).to(device) \n",
    "data, target = next(iter(train_loader))\n",
    "target = torch.sparse.torch.eye(10).index_select(dim=0, index=target)\n",
    "data, target = Variable(data), Variable(target)\n",
    "data, target = data.to(device), target.to(device)\n",
    "output, masked = capsule_net(data)"
   ]
  },
  {
   "cell_type": "code",
   "execution_count": 7,
   "id": "69a96c59",
   "metadata": {
    "execution": {
     "iopub.execute_input": "2025-03-12T18:39:21.786714Z",
     "iopub.status.busy": "2025-03-12T18:39:21.786495Z",
     "iopub.status.idle": "2025-03-12T18:40:18.783835Z",
     "shell.execute_reply": "2025-03-12T18:40:18.783044Z"
    },
    "papermill": {
     "duration": 57.004796,
     "end_time": "2025-03-12T18:40:18.785213",
     "exception": false,
     "start_time": "2025-03-12T18:39:21.780417",
     "status": "completed"
    },
    "tags": []
   },
   "outputs": [
    {
     "name": "stdout",
     "output_type": "stream",
     "text": [
      "Epoch 1/20 - Loss: 0.8147 - Accuracy: 0.5422\n",
      "Epoch 2/20 - Loss: 0.6967 - Accuracy: 0.7734\n",
      "Epoch 3/20 - Loss: 0.6189 - Accuracy: 0.8281\n",
      "Epoch 4/20 - Loss: 0.5567 - Accuracy: 0.8672\n",
      "Epoch 5/20 - Loss: 0.5061 - Accuracy: 0.9031\n",
      "Epoch 6/20 - Loss: 0.4665 - Accuracy: 0.9211\n",
      "Epoch 7/20 - Loss: 0.4349 - Accuracy: 0.9352\n",
      "Epoch 8/20 - Loss: 0.4079 - Accuracy: 0.9469\n",
      "Epoch 9/20 - Loss: 0.3837 - Accuracy: 0.9539\n",
      "Epoch 10/20 - Loss: 0.3607 - Accuracy: 0.9609\n",
      "Epoch 11/20 - Loss: 0.3393 - Accuracy: 0.9641\n",
      "Epoch 12/20 - Loss: 0.3194 - Accuracy: 0.9703\n",
      "Epoch 13/20 - Loss: 0.2998 - Accuracy: 0.9711\n",
      "Epoch 14/20 - Loss: 0.2817 - Accuracy: 0.9727\n",
      "Epoch 15/20 - Loss: 0.2613 - Accuracy: 0.9773\n",
      "Epoch 16/20 - Loss: 0.2394 - Accuracy: 0.9805\n",
      "Epoch 17/20 - Loss: 0.2202 - Accuracy: 0.9805\n",
      "Epoch 18/20 - Loss: 0.2017 - Accuracy: 0.9844\n",
      "Epoch 19/20 - Loss: 0.1833 - Accuracy: 0.9859\n",
      "Epoch 20/20 - Loss: 0.1656 - Accuracy: 0.9883\n"
     ]
    }
   ],
   "source": [
    "capsule_net = CapsuleNet().to(device) \n",
    "optimizer = Adam(capsule_net.parameters())\n",
    "\n",
    "n_epochs = 20\n",
    "\n",
    "for epoch in range(n_epochs):\n",
    "    capsule_net.train()\n",
    "    train_loss = 0\n",
    "    correct_train = 0\n",
    "    total_train = 0\n",
    "    for batch_id, (data, target) in enumerate(train_loader):\n",
    "        target = torch.sparse.torch.eye(10).index_select(dim=0, index=target)\n",
    "        data, target = Variable(data), Variable(target)\n",
    "        data, target = data.to(device), target.to(device)\n",
    "\n",
    "        optimizer.zero_grad()\n",
    "        output, masked = capsule_net(data)\n",
    "        loss = capsule_net.loss(output, target)\n",
    "        loss.backward()\n",
    "        optimizer.step()\n",
    "\n",
    "        train_loss += loss.item()\n",
    "\n",
    "        preds = np.argmax(masked.data.cpu().numpy(), axis=1)\n",
    "        targets = np.argmax(target.data.cpu().numpy(), axis=1)\n",
    "        correct_train += np.sum(preds == targets)\n",
    "        total_train += len(targets)\n",
    "    \n",
    "    train_accuracy = correct_train / total_train\n",
    "    avg_train_loss = train_loss / len(train_loader)\n",
    "    print(f\"Epoch {epoch+1}/{n_epochs} - Loss: {avg_train_loss:.4f} - Accuracy: {train_accuracy:.4f}\")\n",
    "    "
   ]
  },
  {
   "cell_type": "code",
   "execution_count": 8,
   "id": "1f5c2d1b",
   "metadata": {
    "execution": {
     "iopub.execute_input": "2025-03-12T18:40:18.796481Z",
     "iopub.status.busy": "2025-03-12T18:40:18.796247Z",
     "iopub.status.idle": "2025-03-12T18:40:19.945022Z",
     "shell.execute_reply": "2025-03-12T18:40:19.944112Z"
    },
    "papermill": {
     "duration": 1.156234,
     "end_time": "2025-03-12T18:40:19.946531",
     "exception": false,
     "start_time": "2025-03-12T18:40:18.790297",
     "status": "completed"
    },
    "tags": []
   },
   "outputs": [
    {
     "name": "stdout",
     "output_type": "stream",
     "text": [
      "Test Loss: 0.3492 - Test Accuracy: 0.9086\n"
     ]
    }
   ],
   "source": [
    "capsule_net.eval()\n",
    "test_loss = 0\n",
    "correct_test = 0\n",
    "total_test = 0\n",
    "\n",
    "with torch.no_grad():\n",
    "    for data, target in test_loader:\n",
    "        target = torch.sparse.torch.eye(10).index_select(dim=0, index=target)\n",
    "        data, target = Variable(data), Variable(target)\n",
    "        data, target = data.to(device), target.to(device)\n",
    "\n",
    "        output, masked = capsule_net(data)\n",
    "        loss = capsule_net.loss(output, target)\n",
    "        test_loss += loss.item()\n",
    "\n",
    "        preds = np.argmax(masked.data.cpu().numpy(), axis=1)\n",
    "        targets = np.argmax(target.data.cpu().numpy(), axis=1)\n",
    "        correct_test += np.sum(preds == targets)\n",
    "        total_test += len(targets)\n",
    "\n",
    "test_accuracy = correct_test / total_test\n",
    "avg_test_loss = test_loss / len(test_loader)\n",
    "\n",
    "print(f\"Test Loss: {avg_test_loss:.4f} - Test Accuracy: {test_accuracy:.4f}\")"
   ]
  },
  {
   "cell_type": "code",
   "execution_count": 9,
   "id": "fb1e5d3d",
   "metadata": {
    "execution": {
     "iopub.execute_input": "2025-03-12T18:40:19.957662Z",
     "iopub.status.busy": "2025-03-12T18:40:19.957295Z",
     "iopub.status.idle": "2025-03-12T18:40:20.901204Z",
     "shell.execute_reply": "2025-03-12T18:40:20.900249Z"
    },
    "papermill": {
     "duration": 0.950695,
     "end_time": "2025-03-12T18:40:20.902478",
     "exception": false,
     "start_time": "2025-03-12T18:40:19.951783",
     "status": "completed"
    },
    "tags": []
   },
   "outputs": [
    {
     "data": {
      "image/png": "[encoded data removed]",
      "text/plain": [
       "<Figure size 1200x600 with 15 Axes>"
      ]
     },
     "metadata": {},
     "output_type": "display_data"
    }
   ],
   "source": [
    "capsule_net.eval()\n",
    "\n",
    "with torch.no_grad():\n",
    "    data, target = next(iter(test_loader))\n",
    "    target = torch.sparse.torch.eye(10).index_select(dim=0, index=target)\n",
    "    data, target = Variable(data), Variable(target)\n",
    "    data, target = data.to(device), target.to(device)\n",
    "    output, masked = capsule_net(data)\n",
    "    preds = np.argmax(masked.data.cpu().numpy(), axis=1)\n",
    "    targets = np.argmax(target.data.cpu().numpy(), axis=1)\n",
    "\n",
    "    fig, axes = plt.subplots(3, 5, figsize=(12, 6))\n",
    "    axes = axes.flatten()\n",
    "    \n",
    "    for i in range(15):\n",
    "        ax = axes[i]\n",
    "        ax.imshow(data[i].cpu().numpy().squeeze(), cmap='gray')\n",
    "        ax.set_title(f\"True: {targets[i]} \\nPred: {preds[i]}\")\n",
    "        ax.axis('off')\n",
    "    \n",
    "    plt.tight_layout()\n",
    "    plt.show()"
   ]
  }
 ],
 "metadata": {
  "kaggle": {
   "accelerator": "none",
   "dataSources": [],
   "dockerImageVersionId": 30918,
   "isGpuEnabled": false,
   "isInternetEnabled": true,
   "language": "python",
   "sourceType": "notebook"
  },
  "kernelspec": {
   "display_name": "Python 3",
   "language": "python",
   "name": "python3"
  },
  "language_info": {
   "codemirror_mode": {
    "name": "ipython",
    "version": 3
   },
   "file_extension": ".py",
   "mimetype": "text/x-python",
   "name": "python",
   "nbconvert_exporter": "python",
   "pygments_lexer": "ipython3",
   "version": "3.10.12"
  },
  "papermill": {
   "default_parameters": {},
   "duration": 76.78993,
   "end_time": "2025-03-12T18:40:23.267233",
   "environment_variables": {},
   "exception": null,
   "input_path": "__notebook__.ipynb",
   "output_path": "__notebook__.ipynb",
   "parameters": {},
   "start_time": "2025-03-12T18:39:06.477303",
   "version": "2.6.0"
  }
 },
 "nbformat": 4,
 "nbformat_minor": 5
}
