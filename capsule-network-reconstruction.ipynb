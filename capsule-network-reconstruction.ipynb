{
 "cells": [
  {
   "cell_type": "code",
   "execution_count": 1,
   "id": "360374e1",
   "metadata": {
    "_cell_guid": "b1076dfc-b9ad-4769-8c92-a6c4dae69d19",
    "_uuid": "8f2839f25d086af736a60e9eeb907d3b93b6e0e5",
    "execution": {
     "iopub.execute_input": "2025-03-11T19:47:36.304559Z",
     "iopub.status.busy": "2025-03-11T19:47:36.304304Z",
     "iopub.status.idle": "2025-03-11T19:47:47.922882Z",
     "shell.execute_reply": "2025-03-11T19:47:47.922244Z"
    },
    "papermill": {
     "duration": 11.623503,
     "end_time": "2025-03-11T19:47:47.924474",
     "exception": false,
     "start_time": "2025-03-11T19:47:36.300971",
     "status": "completed"
    },
    "tags": []
   },
   "outputs": [],
   "source": [
    "import torch\n",
    "import torch.nn as nn\n",
    "import torch.nn.functional as F\n",
    "from torch.autograd import Variable\n",
    "from torch.utils.data import Subset\n",
    "from torch.utils.data import DataLoader\n",
    "from collections import Counter\n",
    "from torch.optim import Adam\n",
    "from torchvision import datasets, transforms\n",
    "import numpy as np\n",
    "import matplotlib.pyplot as plt"
   ]
  },
  {
   "cell_type": "code",
   "execution_count": 2,
   "id": "96c16017",
   "metadata": {
    "execution": {
     "iopub.execute_input": "2025-03-11T19:47:47.930286Z",
     "iopub.status.busy": "2025-03-11T19:47:47.929974Z",
     "iopub.status.idle": "2025-03-11T19:47:50.332581Z",
     "shell.execute_reply": "2025-03-11T19:47:50.331866Z"
    },
    "papermill": {
     "duration": 2.406842,
     "end_time": "2025-03-11T19:47:50.334075",
     "exception": false,
     "start_time": "2025-03-11T19:47:47.927233",
     "status": "completed"
    },
    "tags": []
   },
   "outputs": [
    {
     "name": "stdout",
     "output_type": "stream",
     "text": [
      "Downloading http://yann.lecun.com/exdb/mnist/train-images-idx3-ubyte.gz\n",
      "Failed to download (trying next):\n",
      "HTTP Error 404: Not Found\n",
      "\n",
      "Downloading https://ossci-datasets.s3.amazonaws.com/mnist/train-images-idx3-ubyte.gz\n",
      "Downloading https://ossci-datasets.s3.amazonaws.com/mnist/train-images-idx3-ubyte.gz to ./data/MNIST/raw/train-images-idx3-ubyte.gz\n"
     ]
    },
    {
     "name": "stderr",
     "output_type": "stream",
     "text": [
      "100%|██████████| 9.91M/9.91M [00:00<00:00, 42.4MB/s]\n"
     ]
    },
    {
     "name": "stdout",
     "output_type": "stream",
     "text": [
      "Extracting ./data/MNIST/raw/train-images-idx3-ubyte.gz to ./data/MNIST/raw\n",
      "\n",
      "Downloading http://yann.lecun.com/exdb/mnist/train-labels-idx1-ubyte.gz\n",
      "Failed to download (trying next):\n",
      "HTTP Error 404: Not Found\n",
      "\n",
      "Downloading https://ossci-datasets.s3.amazonaws.com/mnist/train-labels-idx1-ubyte.gz\n",
      "Downloading https://ossci-datasets.s3.amazonaws.com/mnist/train-labels-idx1-ubyte.gz to ./data/MNIST/raw/train-labels-idx1-ubyte.gz\n"
     ]
    },
    {
     "name": "stderr",
     "output_type": "stream",
     "text": [
      "100%|██████████| 28.9k/28.9k [00:00<00:00, 1.13MB/s]\n"
     ]
    },
    {
     "name": "stdout",
     "output_type": "stream",
     "text": [
      "Extracting ./data/MNIST/raw/train-labels-idx1-ubyte.gz to ./data/MNIST/raw\n",
      "\n",
      "Downloading http://yann.lecun.com/exdb/mnist/t10k-images-idx3-ubyte.gz\n",
      "Failed to download (trying next):\n",
      "HTTP Error 404: Not Found\n",
      "\n",
      "Downloading https://ossci-datasets.s3.amazonaws.com/mnist/t10k-images-idx3-ubyte.gz\n",
      "Downloading https://ossci-datasets.s3.amazonaws.com/mnist/t10k-images-idx3-ubyte.gz to ./data/MNIST/raw/t10k-images-idx3-ubyte.gz\n"
     ]
    },
    {
     "name": "stderr",
     "output_type": "stream",
     "text": [
      "100%|██████████| 1.65M/1.65M [00:00<00:00, 10.4MB/s]\n"
     ]
    },
    {
     "name": "stdout",
     "output_type": "stream",
     "text": [
      "Extracting ./data/MNIST/raw/t10k-images-idx3-ubyte.gz to ./data/MNIST/raw\n",
      "\n",
      "Downloading http://yann.lecun.com/exdb/mnist/t10k-labels-idx1-ubyte.gz\n",
      "Failed to download (trying next):\n",
      "HTTP Error 404: Not Found\n",
      "\n",
      "Downloading https://ossci-datasets.s3.amazonaws.com/mnist/t10k-labels-idx1-ubyte.gz\n",
      "Downloading https://ossci-datasets.s3.amazonaws.com/mnist/t10k-labels-idx1-ubyte.gz to ./data/MNIST/raw/t10k-labels-idx1-ubyte.gz\n"
     ]
    },
    {
     "name": "stderr",
     "output_type": "stream",
     "text": [
      "100%|██████████| 4.54k/4.54k [00:00<00:00, 6.76MB/s]"
     ]
    },
    {
     "name": "stdout",
     "output_type": "stream",
     "text": [
      "Extracting ./data/MNIST/raw/t10k-labels-idx1-ubyte.gz to ./data/MNIST/raw\n",
      "\n"
     ]
    },
    {
     "name": "stderr",
     "output_type": "stream",
     "text": [
      "\n"
     ]
    }
   ],
   "source": [
    "transform = transforms.Compose([\n",
    "    transforms.ToTensor(),\n",
    "    transforms.Normalize((0.5,), (0.5,))\n",
    "])\n",
    "\n",
    "train_dataset = datasets.MNIST(root='./data', train=True, download=True, transform=transform)\n",
    "test_dataset = datasets.MNIST(root='./data', train=True, download=True, transform=transform)\n",
    "\n",
    "# subset_indices = list(range(1280))\n",
    "# train_dataset = Subset(train_dataset, subset_indices)\n",
    "# test_dataset = Subset(test_dataset, subset_indices)\n",
    "\n",
    "train_loader = DataLoader(train_dataset, batch_size=128, shuffle=True)\n",
    "test_loader = DataLoader(test_dataset, batch_size=128, shuffle=True)\n",
    "\n",
    "device = torch.device(\"cuda\" if torch.cuda.is_available() else \"cpu\")"
   ]
  },
  {
   "cell_type": "code",
   "execution_count": 3,
   "id": "9f100d55",
   "metadata": {
    "execution": {
     "iopub.execute_input": "2025-03-11T19:47:50.341589Z",
     "iopub.status.busy": "2025-03-11T19:47:50.341369Z",
     "iopub.status.idle": "2025-03-11T19:48:12.994961Z",
     "shell.execute_reply": "2025-03-11T19:48:12.993774Z"
    },
    "papermill": {
     "duration": 22.658711,
     "end_time": "2025-03-11T19:48:12.996317",
     "exception": false,
     "start_time": "2025-03-11T19:47:50.337606",
     "status": "completed"
    },
    "tags": []
   },
   "outputs": [
    {
     "name": "stdout",
     "output_type": "stream",
     "text": [
      "Digit 3: 6131\n",
      "Digit 2: 5958\n",
      "Digit 5: 5421\n",
      "Digit 9: 5949\n",
      "Digit 7: 6265\n",
      "Digit 1: 6742\n",
      "Digit 0: 5923\n",
      "Digit 8: 5851\n",
      "Digit 4: 5842\n",
      "Digit 6: 5918\n",
      "--------\n",
      "Digit 1: 6742\n",
      "Digit 7: 6265\n",
      "Digit 5: 5421\n",
      "Digit 8: 5851\n",
      "Digit 3: 6131\n",
      "Digit 6: 5918\n",
      "Digit 4: 5842\n",
      "Digit 2: 5958\n",
      "Digit 9: 5949\n",
      "Digit 0: 5923\n"
     ]
    }
   ],
   "source": [
    "digit_counter = Counter()\n",
    "for images, labels in train_loader:\n",
    "    digit_counter.update(labels.numpy())\n",
    "for digit, count in digit_counter.items():\n",
    "    print(f\"Digit {digit}: {count}\")\n",
    "\n",
    "print('--------')\n",
    "\n",
    "digit_counter = Counter()\n",
    "for images, labels in test_loader:\n",
    "    digit_counter.update(labels.numpy())\n",
    "for digit, count in digit_counter.items():\n",
    "    print(f\"Digit {digit}: {count}\")"
   ]
  },
  {
   "cell_type": "code",
   "execution_count": 4,
   "id": "e41cc345",
   "metadata": {
    "execution": {
     "iopub.execute_input": "2025-03-11T19:48:13.004345Z",
     "iopub.status.busy": "2025-03-11T19:48:13.004113Z",
     "iopub.status.idle": "2025-03-11T19:48:13.021000Z",
     "shell.execute_reply": "2025-03-11T19:48:13.020286Z"
    },
    "papermill": {
     "duration": 0.02201,
     "end_time": "2025-03-11T19:48:13.022143",
     "exception": false,
     "start_time": "2025-03-11T19:48:13.000133",
     "status": "completed"
    },
    "tags": []
   },
   "outputs": [],
   "source": [
    "def debug_print(debug, message, tensor=None):\n",
    "    if debug:\n",
    "        if tensor is not None:\n",
    "            print(f\"{message}: {tensor.shape}\")\n",
    "        else:\n",
    "            print(message)\n",
    "\n",
    "def squash(input_tensor):\n",
    "    squared_norm = (input_tensor ** 2).sum(-1, keepdim=True)\n",
    "    output_tensor = (squared_norm / (1. + squared_norm)) *  (input_tensor / torch.sqrt(squared_norm))\n",
    "    return output_tensor\n",
    "\n",
    "class ConvLayer(nn.Module):\n",
    "    def __init__(self, in_channels=1, out_channels=256, kernel_size=9, debug=False):\n",
    "        super(ConvLayer, self).__init__()\n",
    "        self.conv = nn.Conv2d(in_channels=in_channels, out_channels=out_channels, kernel_size=kernel_size, stride=1)\n",
    "        self.debug = debug\n",
    "\n",
    "    def forward(self, x):\n",
    "        x = self.conv(x)\n",
    "        debug_print(self.debug, \"x after conv\", x)\n",
    "        x = F.relu(x)\n",
    "        debug_print(self.debug, \"x after ReLU\", x)\n",
    "        return x\n",
    "\n",
    "\n",
    "class PrimaryCaps(nn.Module):\n",
    "    def __init__(self, num_capsules=8, in_channels=256, out_channels=32, kernel_size=9, debug=False):\n",
    "        super(PrimaryCaps, self).__init__()\n",
    "        self.capsules = nn.ModuleList()\n",
    "        for _ in range(num_capsules):\n",
    "            capsule = nn.Conv2d(in_channels=in_channels, out_channels=out_channels, kernel_size=kernel_size, stride=2, padding=0)\n",
    "            self.capsules.append(capsule)\n",
    "        self.debug = debug\n",
    "    \n",
    "    def forward(self, x):\n",
    "        stacked_capsules = [capsule(x) for capsule in self.capsules]\n",
    "        if self.debug: \n",
    "            print(\"capsule_out:\")\n",
    "            for capsule_out in stacked_capsules:\n",
    "                print(\"\\t\", capsule_out.shape)\n",
    "        stacked_capsules = torch.stack(stacked_capsules, dim=1)\n",
    "        debug_print(self.debug, \"stacked_capsules\", stacked_capsules)\n",
    "        flattened_capsules = stacked_capsules.view(x.size(0), 32 * 6 * 6, -1)\n",
    "        debug_print(self.debug, \"flattened_capsules\", flattened_capsules)\n",
    "        squashed_output = squash(flattened_capsules)\n",
    "        debug_print(self.debug, \"squashed_output\", squashed_output)\n",
    "        return squashed_output\n",
    "\n",
    "\n",
    "class DigitCaps(nn.Module):\n",
    "    def __init__(self, num_capsules=10, num_routes=32 * 6 * 6, in_channels=8, out_channels=16, debug=False):\n",
    "        super(DigitCaps, self).__init__()\n",
    "        self.in_channels = in_channels\n",
    "        self.num_routes = num_routes\n",
    "        self.num_capsules = num_capsules\n",
    "        self.W = nn.Parameter(torch.randn(1, num_routes, num_capsules, out_channels, in_channels))\n",
    "        self.debug = debug\n",
    "\n",
    "    def forward(self, x):\n",
    "        batch_size = x.size(0)\n",
    "        x = torch.stack([x] * self.num_capsules, dim=2).unsqueeze(4)\n",
    "        debug_print(self.debug, \"x after stacking\", x)\n",
    "\n",
    "        W = torch.cat([self.W] * batch_size, dim=0)\n",
    "        debug_print(self.debug, \"W\", W)\n",
    "        \n",
    "        u_hat = torch.matmul(W, x)\n",
    "        debug_print(self.debug, \"u_hat\", u_hat)\n",
    "\n",
    "        b_ij = Variable(torch.zeros(1, self.num_routes, self.num_capsules, 1))\n",
    "        b_ij = b_ij.to(device)\n",
    "        debug_print(self.debug, \"b_ij\", b_ij)\n",
    "\n",
    "        num_iter = 3\n",
    "        for i in range(num_iter):\n",
    "            if self.debug: print()\n",
    "            c_ij = F.softmax(b_ij, dim=1)\n",
    "            debug_print(self.debug, \"c_ij\", c_ij)\n",
    "            c_ij = torch.cat([c_ij] * batch_size, dim=0).unsqueeze(4)\n",
    "            debug_print(self.debug, \"c_ij after repeat\", c_ij)\n",
    "            c_ij = c_ij.to(device)\n",
    "\n",
    "            s_j = (c_ij * u_hat).sum(dim=1, keepdim=True)\n",
    "            debug_print(self.debug, \"s_j\", s_j)\n",
    "\n",
    "            v_j = squash(s_j)\n",
    "            debug_print(self.debug, \"v_j\", v_j)\n",
    "            \n",
    "            a_ij = torch.matmul(u_hat.transpose(3, 4), torch.cat([v_j] * self.num_routes, dim=1))\n",
    "            debug_print(self.debug, \"a_ij\", a_ij)\n",
    "            b_ij = b_ij + a_ij.squeeze(4).mean(dim=0, keepdim=True)\n",
    "            debug_print(self.debug, \"b_ij updated\", b_ij)\n",
    "\n",
    "        return v_j.squeeze(1)\n",
    "\n",
    "class Decoder(nn.Module):\n",
    "    def __init__(self, debug=False):\n",
    "        super(Decoder, self).__init__()\n",
    "        self.reconstruction_layers = nn.Sequential(\n",
    "            nn.Linear(16 * 10, 512),\n",
    "            nn.ReLU(inplace=True),\n",
    "            nn.Linear(512, 1024),\n",
    "            nn.ReLU(inplace=True),\n",
    "            nn.Linear(1024, 784),\n",
    "            nn.Sigmoid()\n",
    "        )\n",
    "        self.debug = debug\n",
    "        \n",
    "    def forward(self, x, data):\n",
    "        classes = torch.sqrt((x ** 2).sum(2))\n",
    "        debug_print(self.debug, \"classes before softmax\", classes)\n",
    "        classes = F.softmax(classes, dim=0)\n",
    "        debug_print(self.debug, \"classes after softmax\", classes)\n",
    "        \n",
    "        _, max_length_indices = classes.max(dim=1)\n",
    "        debug_print(self.debug, \"max_length_indices\", max_length_indices)\n",
    "        masked = Variable(torch.sparse.torch.eye(10))\n",
    "        debug_print(self.debug, \"masked\", masked)\n",
    "        masked = masked.to(device)\n",
    "        masked = masked.index_select(dim=0, index=Variable(max_length_indices.squeeze(1).data))\n",
    "        debug_print(self.debug, \"masked after index_select\", masked)\n",
    "\n",
    "        reconstructions = self.reconstruction_layers((x * masked[:, :, None, None]).view(x.size(0), -1))\n",
    "        debug_print(self.debug, \"reconstructions\", reconstructions)\n",
    "        reconstructions = reconstructions.view(-1, 1, 28, 28)\n",
    "        debug_print(self.debug, \"reconstructions\", reconstructions)\n",
    "        return reconstructions, masked\n"
   ]
  },
  {
   "cell_type": "code",
   "execution_count": 5,
   "id": "04e3252b",
   "metadata": {
    "execution": {
     "iopub.execute_input": "2025-03-11T19:48:13.029530Z",
     "iopub.status.busy": "2025-03-11T19:48:13.029315Z",
     "iopub.status.idle": "2025-03-11T19:48:13.036073Z",
     "shell.execute_reply": "2025-03-11T19:48:13.035464Z"
    },
    "papermill": {
     "duration": 0.011896,
     "end_time": "2025-03-11T19:48:13.037302",
     "exception": false,
     "start_time": "2025-03-11T19:48:13.025406",
     "status": "completed"
    },
    "tags": []
   },
   "outputs": [],
   "source": [
    "class CapsuleNet(nn.Module):\n",
    "    def __init__(self, debug=False):\n",
    "        super(CapsuleNet, self).__init__()\n",
    "        self.conv_layer = ConvLayer(debug=debug)\n",
    "        self.primary_capsules = PrimaryCaps(debug=debug)\n",
    "        self.digit_capsules = DigitCaps(debug=debug)\n",
    "        self.decoder = Decoder(debug=debug)\n",
    "        self.mse_loss = nn.MSELoss()\n",
    "        self.debug = debug\n",
    "        \n",
    "    def forward(self, data):\n",
    "        debug_print(self.debug, f\"Input data\", data)\n",
    "        debug_print(self.debug, \"\\nCONV\")\n",
    "        output = self.conv_layer(data)\n",
    "        debug_print(self.debug, \"\\nPRIMARY\")\n",
    "        output = self.primary_capsules(output)\n",
    "        debug_print(self.debug, \"\\nDIGIT\")\n",
    "        output = self.digit_capsules(output)\n",
    "        debug_print(self.debug, \"\\nDECODER\")\n",
    "        reconstructions, masked = self.decoder(output, data)\n",
    "        debug_print(self.debug, \"\\nOUTPUT\", output)\n",
    "        return output, reconstructions, masked\n",
    "\n",
    "    def loss(self, x, target, data, reconstructions):\n",
    "        return self.margin_loss(x, target) + self.reconstruction_loss(data, reconstructions)\n",
    "    \n",
    "    def margin_loss(self, x, labels):\n",
    "        batch_size = x.size(0)\n",
    "        v_k = torch.sqrt((x**2).sum(dim=2, keepdim=True))\n",
    "        left = F.relu(0.9 - v_k).view(batch_size, -1)\n",
    "        right = F.relu(v_k - 0.1).view(batch_size, -1)\n",
    "        loss = labels * left + 0.5 * (1.0 - labels) * right\n",
    "        loss = loss.sum(dim=1).mean()\n",
    "        return loss\n",
    "\n",
    "    def reconstruction_loss(self, data, reconstructions):\n",
    "        loss = self.mse_loss(reconstructions.view(reconstructions.size(0), -1), data.view(reconstructions.size(0), -1))\n",
    "        return loss * 0.0005"
   ]
  },
  {
   "cell_type": "code",
   "execution_count": 6,
   "id": "e85864aa",
   "metadata": {
    "execution": {
     "iopub.execute_input": "2025-03-11T19:48:13.044724Z",
     "iopub.status.busy": "2025-03-11T19:48:13.044516Z",
     "iopub.status.idle": "2025-03-11T19:48:15.595531Z",
     "shell.execute_reply": "2025-03-11T19:48:15.594557Z"
    },
    "papermill": {
     "duration": 2.556017,
     "end_time": "2025-03-11T19:48:15.596807",
     "exception": false,
     "start_time": "2025-03-11T19:48:13.040790",
     "status": "completed"
    },
    "tags": []
   },
   "outputs": [
    {
     "name": "stdout",
     "output_type": "stream",
     "text": [
      "Input data: torch.Size([128, 1, 28, 28])\n",
      "\n",
      "CONV\n",
      "x after conv: torch.Size([128, 256, 20, 20])\n",
      "x after ReLU: torch.Size([128, 256, 20, 20])\n",
      "\n",
      "PRIMARY\n",
      "capsule_out:\n",
      "\t torch.Size([128, 32, 6, 6])\n",
      "\t torch.Size([128, 32, 6, 6])\n",
      "\t torch.Size([128, 32, 6, 6])\n",
      "\t torch.Size([128, 32, 6, 6])\n",
      "\t torch.Size([128, 32, 6, 6])\n",
      "\t torch.Size([128, 32, 6, 6])\n",
      "\t torch.Size([128, 32, 6, 6])\n",
      "\t torch.Size([128, 32, 6, 6])\n",
      "stacked_capsules: torch.Size([128, 8, 32, 6, 6])\n",
      "flattened_capsules: torch.Size([128, 1152, 8])\n",
      "squashed_output: torch.Size([128, 1152, 8])\n",
      "\n",
      "DIGIT\n",
      "x after stacking: torch.Size([128, 1152, 10, 8, 1])\n",
      "W: torch.Size([128, 1152, 10, 16, 8])\n",
      "u_hat: torch.Size([128, 1152, 10, 16, 1])\n",
      "b_ij: torch.Size([1, 1152, 10, 1])\n",
      "\n",
      "c_ij: torch.Size([1, 1152, 10, 1])\n",
      "c_ij after repeat: torch.Size([128, 1152, 10, 1, 1])\n",
      "s_j: torch.Size([128, 1, 10, 16, 1])\n",
      "v_j: torch.Size([128, 1, 10, 16, 1])\n",
      "a_ij: torch.Size([128, 1152, 10, 1, 1])\n",
      "b_ij updated: torch.Size([1, 1152, 10, 1])\n",
      "\n",
      "c_ij: torch.Size([1, 1152, 10, 1])\n",
      "c_ij after repeat: torch.Size([128, 1152, 10, 1, 1])\n",
      "s_j: torch.Size([128, 1, 10, 16, 1])\n",
      "v_j: torch.Size([128, 1, 10, 16, 1])\n",
      "a_ij: torch.Size([128, 1152, 10, 1, 1])\n",
      "b_ij updated: torch.Size([1, 1152, 10, 1])\n",
      "\n",
      "c_ij: torch.Size([1, 1152, 10, 1])\n",
      "c_ij after repeat: torch.Size([128, 1152, 10, 1, 1])\n",
      "s_j: torch.Size([128, 1, 10, 16, 1])\n",
      "v_j: torch.Size([128, 1, 10, 16, 1])\n",
      "a_ij: torch.Size([128, 1152, 10, 1, 1])\n",
      "b_ij updated: torch.Size([1, 1152, 10, 1])\n",
      "\n",
      "DECODER\n",
      "classes before softmax: torch.Size([128, 10, 1])\n",
      "classes after softmax: torch.Size([128, 10, 1])\n",
      "max_length_indices: torch.Size([128, 1])\n",
      "masked: torch.Size([10, 10])\n",
      "masked after index_select: torch.Size([128, 10])\n",
      "reconstructions: torch.Size([128, 784])\n",
      "reconstructions: torch.Size([128, 1, 28, 28])\n",
      "\n",
      "OUTPUT: torch.Size([128, 10, 16, 1])\n"
     ]
    }
   ],
   "source": [
    "capsule_net = CapsuleNet(debug=True).to(device) \n",
    "data, target = next(iter(train_loader))\n",
    "target = torch.sparse.torch.eye(10).index_select(dim=0, index=target)\n",
    "data, target = Variable(data), Variable(target)\n",
    "data, target = data.to(device), target.to(device)\n",
    "output, reconstructions, masked = capsule_net(data)"
   ]
  },
  {
   "cell_type": "code",
   "execution_count": 7,
   "id": "23417dab",
   "metadata": {
    "execution": {
     "iopub.execute_input": "2025-03-11T19:48:15.605352Z",
     "iopub.status.busy": "2025-03-11T19:48:15.605110Z",
     "iopub.status.idle": "2025-03-11T20:39:06.784823Z",
     "shell.execute_reply": "2025-03-11T20:39:06.783860Z"
    },
    "papermill": {
     "duration": 3051.189721,
     "end_time": "2025-03-11T20:39:06.790587",
     "exception": false,
     "start_time": "2025-03-11T19:48:15.600866",
     "status": "completed"
    },
    "tags": []
   },
   "outputs": [
    {
     "name": "stdout",
     "output_type": "stream",
     "text": [
      "Epoch 1/20 - Loss: 0.2709 - Accuracy: 0.9282\n",
      "Epoch 2/20 - Loss: 0.0577 - Accuracy: 0.9802\n",
      "Epoch 3/20 - Loss: 0.0421 - Accuracy: 0.9863\n",
      "Epoch 4/20 - Loss: nan - Accuracy: 0.7875\n",
      "Epoch 5/20 - Loss: nan - Accuracy: 0.0987\n",
      "Epoch 6/20 - Loss: nan - Accuracy: 0.0987\n",
      "Epoch 7/20 - Loss: nan - Accuracy: 0.0987\n",
      "Epoch 8/20 - Loss: nan - Accuracy: 0.0987\n",
      "Epoch 9/20 - Loss: nan - Accuracy: 0.0987\n",
      "Epoch 10/20 - Loss: nan - Accuracy: 0.0987\n",
      "Epoch 11/20 - Loss: nan - Accuracy: 0.0987\n",
      "Epoch 12/20 - Loss: nan - Accuracy: 0.0987\n",
      "Epoch 13/20 - Loss: nan - Accuracy: 0.0987\n",
      "Epoch 14/20 - Loss: nan - Accuracy: 0.0987\n",
      "Epoch 15/20 - Loss: nan - Accuracy: 0.0987\n",
      "Epoch 16/20 - Loss: nan - Accuracy: 0.0987\n",
      "Epoch 17/20 - Loss: nan - Accuracy: 0.0987\n",
      "Epoch 18/20 - Loss: nan - Accuracy: 0.0987\n",
      "Epoch 19/20 - Loss: nan - Accuracy: 0.0987\n",
      "Epoch 20/20 - Loss: nan - Accuracy: 0.0987\n"
     ]
    }
   ],
   "source": [
    "capsule_net = CapsuleNet().to(device) \n",
    "optimizer = Adam(capsule_net.parameters())\n",
    "\n",
    "n_epochs = 20\n",
    "\n",
    "for epoch in range(n_epochs):\n",
    "    capsule_net.train()\n",
    "    train_loss = 0\n",
    "    correct_train = 0\n",
    "    total_train = 0\n",
    "    for batch_id, (data, target) in enumerate(train_loader):\n",
    "        target = torch.sparse.torch.eye(10).index_select(dim=0, index=target)\n",
    "        data, target = Variable(data), Variable(target)\n",
    "        data, target = data.to(device), target.to(device)\n",
    "\n",
    "        optimizer.zero_grad()\n",
    "        output, reconstructions, masked = capsule_net(data)\n",
    "        loss = capsule_net.loss(output, target, data, reconstructions)\n",
    "        loss.backward()\n",
    "        optimizer.step()\n",
    "\n",
    "        train_loss += loss.item()\n",
    "\n",
    "        preds = np.argmax(masked.data.cpu().numpy(), axis=1)\n",
    "        targets = np.argmax(target.data.cpu().numpy(), axis=1)\n",
    "        correct_train += np.sum(preds == targets)\n",
    "        total_train += len(targets)\n",
    "    \n",
    "    train_accuracy = correct_train / total_train\n",
    "    avg_train_loss = train_loss / len(train_loader)\n",
    "    print(f\"Epoch {epoch+1}/{n_epochs} - Loss: {avg_train_loss:.4f} - Accuracy: {train_accuracy:.4f}\")\n",
    "    "
   ]
  },
  {
   "cell_type": "code",
   "execution_count": 8,
   "id": "be955afc",
   "metadata": {
    "execution": {
     "iopub.execute_input": "2025-03-11T20:39:06.801091Z",
     "iopub.status.busy": "2025-03-11T20:39:06.800821Z",
     "iopub.status.idle": "2025-03-11T20:39:49.455646Z",
     "shell.execute_reply": "2025-03-11T20:39:49.454782Z"
    },
    "papermill": {
     "duration": 42.665528,
     "end_time": "2025-03-11T20:39:49.461010",
     "exception": false,
     "start_time": "2025-03-11T20:39:06.795482",
     "status": "completed"
    },
    "tags": []
   },
   "outputs": [
    {
     "name": "stdout",
     "output_type": "stream",
     "text": [
      "Test Loss: nan - Test Accuracy: 0.0987\n"
     ]
    }
   ],
   "source": [
    "capsule_net.eval()\n",
    "test_loss = 0\n",
    "correct_test = 0\n",
    "total_test = 0\n",
    "\n",
    "with torch.no_grad():\n",
    "    for data, target in test_loader:\n",
    "        target = torch.sparse.torch.eye(10).index_select(dim=0, index=target)\n",
    "        data, target = Variable(data), Variable(target)\n",
    "        data, target = data.to(device), target.to(device)\n",
    "\n",
    "        output, reconstructions, masked = capsule_net(data)\n",
    "        loss = capsule_net.loss(output, target, data, reconstructions)\n",
    "        test_loss += loss.item()\n",
    "\n",
    "        preds = np.argmax(masked.data.cpu().numpy(), axis=1)\n",
    "        targets = np.argmax(target.data.cpu().numpy(), axis=1)\n",
    "        correct_test += np.sum(preds == targets)\n",
    "        total_test += len(targets)\n",
    "\n",
    "test_accuracy = correct_test / total_test\n",
    "avg_test_loss = test_loss / len(test_loader)\n",
    "\n",
    "print(f\"Test Loss: {avg_test_loss:.4f} - Test Accuracy: {test_accuracy:.4f}\")"
   ]
  },
  {
   "cell_type": "code",
   "execution_count": 9,
   "id": "b4bb1ab8",
   "metadata": {
    "execution": {
     "iopub.execute_input": "2025-03-11T20:39:49.471095Z",
     "iopub.status.busy": "2025-03-11T20:39:49.470816Z",
     "iopub.status.idle": "2025-03-11T20:39:50.516801Z",
     "shell.execute_reply": "2025-03-11T20:39:50.516006Z"
    },
    "papermill": {
     "duration": 1.052437,
     "end_time": "2025-03-11T20:39:50.518172",
     "exception": false,
     "start_time": "2025-03-11T20:39:49.465735",
     "status": "completed"
    },
    "tags": []
   },
   "outputs": [
    {
     "data": {
      "image/png": "[encoded data removed]",
      "text/plain": [
       "<Figure size 1200x600 with 10 Axes>"
      ]
     },
     "metadata": {},
     "output_type": "display_data"
    }
   ],
   "source": [
    "capsule_net.eval()\n",
    "\n",
    "with torch.no_grad():\n",
    "    data, target = next(iter(test_loader))\n",
    "    target = torch.sparse.torch.eye(10).index_select(dim=0, index=target)\n",
    "    data, target = Variable(data), Variable(target)\n",
    "    data, target = data.to(device), target.to(device)\n",
    "    output, reconstructions, masked = capsule_net(data)\n",
    "    preds = np.argmax(masked.data.cpu().numpy(), axis=1)\n",
    "    targets = np.argmax(target.data.cpu().numpy(), axis=1)\n",
    "\n",
    "    fig, axes = plt.subplots(2, 5, figsize=(12, 6))\n",
    "    axes = axes.flatten()\n",
    "    \n",
    "    for i in range(5):\n",
    "        ax = axes[i]\n",
    "        ax.imshow(data[i].cpu().numpy().squeeze(), cmap='gray')\n",
    "        ax.set_title(f\"True: {targets[i]} \\nPred: {preds[i]}\")\n",
    "        ax.axis('off')\n",
    "    \n",
    "    for i in range(5, 10):\n",
    "        ax = axes[i]\n",
    "        ax.imshow(reconstructions[i-5].cpu().numpy().squeeze(), cmap='gray')\n",
    "        ax.set_title(f\"Reconstructed {i-5}\")\n",
    "        ax.axis('off')\n",
    "    \n",
    "    plt.tight_layout()\n",
    "    plt.show()"
   ]
  }
 ],
 "metadata": {
  "kaggle": {
   "accelerator": "nvidiaTeslaT4",
   "dataSources": [],
   "dockerImageVersionId": 30918,
   "isGpuEnabled": true,
   "isInternetEnabled": true,
   "language": "python",
   "sourceType": "notebook"
  },
  "kernelspec": {
   "display_name": "Python 3",
   "language": "python",
   "name": "python3"
  },
  "language_info": {
   "codemirror_mode": {
    "name": "ipython",
    "version": 3
   },
   "file_extension": ".py",
   "mimetype": "text/x-python",
   "name": "python",
   "nbconvert_exporter": "python",
   "pygments_lexer": "ipython3",
   "version": "3.10.12"
  },
  "papermill": {
   "default_parameters": {},
   "duration": 3140.711571,
   "end_time": "2025-03-11T20:39:53.225898",
   "environment_variables": {},
   "exception": null,
   "input_path": "__notebook__.ipynb",
   "output_path": "__notebook__.ipynb",
   "parameters": {},
   "start_time": "2025-03-11T19:47:32.514327",
   "version": "2.6.0"
  }
 },
 "nbformat": 4,
 "nbformat_minor": 5
}
