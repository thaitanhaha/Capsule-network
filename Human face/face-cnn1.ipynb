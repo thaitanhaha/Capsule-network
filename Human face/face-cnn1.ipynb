{
 "cells": [
  {
   "cell_type": "code",
   "execution_count": 1,
   "id": "5c08c43e",
   "metadata": {
    "_cell_guid": "b1076dfc-b9ad-4769-8c92-a6c4dae69d19",
    "_uuid": "8f2839f25d086af736a60e9eeb907d3b93b6e0e5",
    "execution": {
     "iopub.execute_input": "2025-09-06T16:18:11.098886Z",
     "iopub.status.busy": "2025-09-06T16:18:11.098570Z",
     "iopub.status.idle": "2025-09-06T16:18:19.027764Z",
     "shell.execute_reply": "2025-09-06T16:18:19.026805Z"
    },
    "papermill": {
     "duration": 7.935295,
     "end_time": "2025-09-06T16:18:19.029739",
     "exception": false,
     "start_time": "2025-09-06T16:18:11.094444",
     "status": "completed"
    },
    "tags": []
   },
   "outputs": [],
   "source": [
    "import torch\n",
    "import torch.nn as nn\n",
    "import torch.nn.functional as F\n",
    "from torch.autograd import Variable\n",
    "from torch.utils.data import Subset\n",
    "from torch.utils.data import DataLoader\n",
    "from collections import Counter\n",
    "from torch.optim import Adam\n",
    "from torchvision import datasets, transforms\n",
    "import numpy as np\n",
    "import matplotlib.pyplot as plt\n",
    "import random\n",
    "from PIL import Image\n",
    "from tqdm import tqdm\n",
    "from torch.utils.data import Dataset, DataLoader\n",
    "import os"
   ]
  },
  {
   "cell_type": "markdown",
   "id": "b00b8e7d",
   "metadata": {
    "papermill": {
     "duration": 0.002377,
     "end_time": "2025-09-06T16:18:19.035414",
     "exception": false,
     "start_time": "2025-09-06T16:18:19.033037",
     "status": "completed"
    },
    "tags": []
   },
   "source": [
    "## Dataset"
   ]
  },
  {
   "cell_type": "code",
   "execution_count": 2,
   "id": "e452ee1b",
   "metadata": {
    "execution": {
     "iopub.execute_input": "2025-09-06T16:18:19.041404Z",
     "iopub.status.busy": "2025-09-06T16:18:19.041061Z",
     "iopub.status.idle": "2025-09-06T16:18:19.135945Z",
     "shell.execute_reply": "2025-09-06T16:18:19.134956Z"
    },
    "papermill": {
     "duration": 0.099489,
     "end_time": "2025-09-06T16:18:19.137415",
     "exception": false,
     "start_time": "2025-09-06T16:18:19.037926",
     "status": "completed"
    },
    "tags": []
   },
   "outputs": [
    {
     "name": "stdout",
     "output_type": "stream",
     "text": [
      "Number of files in human_faces_dir: 7219\n",
      "Number of files in flowers_dir: 924\n"
     ]
    }
   ],
   "source": [
    "human_faces_dir = '/kaggle/input/human-faces/Humans'\n",
    "flowers_dir = '/kaggle/input/flowers-dataset/test'\n",
    "\n",
    "human_faces_files = len(os.listdir(human_faces_dir))\n",
    "flowers_files = len(os.listdir(flowers_dir))\n",
    "\n",
    "print(f\"Number of files in human_faces_dir: {human_faces_files}\")\n",
    "print(f\"Number of files in flowers_dir: {flowers_files}\")"
   ]
  },
  {
   "cell_type": "code",
   "execution_count": 3,
   "id": "6833b78b",
   "metadata": {
    "execution": {
     "iopub.execute_input": "2025-09-06T16:18:19.144014Z",
     "iopub.status.busy": "2025-09-06T16:18:19.143764Z",
     "iopub.status.idle": "2025-09-06T16:18:19.234604Z",
     "shell.execute_reply": "2025-09-06T16:18:19.233535Z"
    },
    "papermill": {
     "duration": 0.095968,
     "end_time": "2025-09-06T16:18:19.236254",
     "exception": false,
     "start_time": "2025-09-06T16:18:19.140286",
     "status": "completed"
    },
    "tags": []
   },
   "outputs": [],
   "source": [
    "my_transform = transforms.Compose([\n",
    "    transforms.Resize((128, 128)),\n",
    "    transforms.ToTensor(),\n",
    "    transforms.Normalize((0.5,), (0.5,))\n",
    "])\n",
    "\n",
    "class CustomDataset(Dataset):\n",
    "    def __init__(self, human_faces_dir, flowers_dir, transform=None):\n",
    "        self.human_faces_dir = human_faces_dir\n",
    "        self.flowers_dir = flowers_dir\n",
    "        \n",
    "        human_faces_images = [os.path.join(human_faces_dir, fname) for fname in os.listdir(human_faces_dir)]\n",
    "        self.human_faces_images = random.sample(human_faces_images, 300)\n",
    "        flowers_images = [os.path.join(flowers_dir, fname) for fname in os.listdir(flowers_dir)]\n",
    "        self.flowers_images = random.sample(flowers_images, 200)\n",
    "        \n",
    "        self.all_images = self.human_faces_images + self.flowers_images\n",
    "        self.labels = [1] * len(self.human_faces_images) + [0] * len(self.flowers_images)\n",
    "        self.transform = transform\n",
    "\n",
    "    def __len__(self):\n",
    "        return len(self.all_images)\n",
    "\n",
    "    def __getitem__(self, idx):\n",
    "        img_path = self.all_images[idx]\n",
    "        image = Image.open(img_path).convert(\"RGB\")\n",
    "        \n",
    "        label = self.labels[idx]\n",
    "        \n",
    "        if self.transform: image = self.transform(image)\n",
    "        return image, label\n",
    "\n",
    "dataset = CustomDataset(human_faces_dir, flowers_dir, transform=my_transform)\n",
    "dataloader = DataLoader(dataset, batch_size=128, shuffle=True)\n",
    "\n",
    "device = torch.device(\"cuda\" if torch.cuda.is_available() else \"cpu\")"
   ]
  },
  {
   "cell_type": "code",
   "execution_count": 4,
   "id": "24d61b0c",
   "metadata": {
    "execution": {
     "iopub.execute_input": "2025-09-06T16:18:19.242660Z",
     "iopub.status.busy": "2025-09-06T16:18:19.242418Z",
     "iopub.status.idle": "2025-09-06T16:18:23.326528Z",
     "shell.execute_reply": "2025-09-06T16:18:23.325369Z"
    },
    "papermill": {
     "duration": 4.088881,
     "end_time": "2025-09-06T16:18:23.328058",
     "exception": false,
     "start_time": "2025-09-06T16:18:19.239177",
     "status": "completed"
    },
    "tags": []
   },
   "outputs": [
    {
     "name": "stdout",
     "output_type": "stream",
     "text": [
      "torch.Size([128, 3, 128, 128])\n",
      "tensor([1, 1, 1, 0, 1, 0, 0, 0, 1, 1, 1, 1, 1, 1, 0, 0, 0, 0, 0, 0, 0, 1, 1, 0,\n",
      "        1, 1, 0, 0, 0, 1, 1, 1, 1, 1, 1, 0, 1, 1, 1, 0, 0, 0, 1, 1, 0, 0, 1, 0,\n",
      "        0, 1, 0, 1, 0, 0, 1, 1, 1, 1, 1, 0, 0, 1, 1, 1, 1, 1, 1, 1, 0, 1, 1, 1,\n",
      "        0, 1, 0, 1, 1, 1, 1, 1, 0, 0, 1, 0, 0, 1, 1, 0, 1, 1, 0, 0, 0, 1, 1, 1,\n",
      "        0, 0, 0, 1, 1, 1, 0, 1, 1, 1, 0, 0, 1, 1, 1, 0, 1, 1, 1, 1, 1, 0, 1, 1,\n",
      "        1, 1, 0, 0, 0, 0, 1, 0])\n"
     ]
    }
   ],
   "source": [
    "for images, labels in dataloader:\n",
    "    print(images.shape)\n",
    "    print(labels)\n",
    "    break"
   ]
  },
  {
   "cell_type": "code",
   "execution_count": 5,
   "id": "2c0aa795",
   "metadata": {
    "execution": {
     "iopub.execute_input": "2025-09-06T16:18:23.334961Z",
     "iopub.status.busy": "2025-09-06T16:18:23.334633Z",
     "iopub.status.idle": "2025-09-06T16:18:23.483983Z",
     "shell.execute_reply": "2025-09-06T16:18:23.482926Z"
    },
    "papermill": {
     "duration": 0.154599,
     "end_time": "2025-09-06T16:18:23.485668",
     "exception": false,
     "start_time": "2025-09-06T16:18:23.331069",
     "status": "completed"
    },
    "tags": []
   },
   "outputs": [],
   "source": [
    "class TestDataset(Dataset):\n",
    "    def __init__(self, test_dir, transform=None):\n",
    "        self.test_dir = test_dir\n",
    "        test_images = [os.path.join(test_dir, fname) for fname in os.listdir(test_dir) if fname.endswith(('.jpg', '.png', '.jpeg'))]\n",
    "        test_images = random.sample(test_images, 128)\n",
    "        self.all_images = test_images\n",
    "        self.transform = transform\n",
    "\n",
    "    def __len__(self):\n",
    "        return len(self.all_images)\n",
    "\n",
    "    def __getitem__(self, idx):\n",
    "        img_path = self.all_images[idx]\n",
    "        image = Image.open(img_path).convert(\"RGB\")\n",
    "        \n",
    "        if self.transform: image = self.transform(image)\n",
    "        return image\n",
    "\n",
    "test_dir = \"/kaggle/input/face-dataset/human-swap/\"\n",
    "test_dataset = TestDataset(test_dir, transform=my_transform)\n",
    "test_dataloader = DataLoader(test_dataset, batch_size=128, shuffle=False)"
   ]
  },
  {
   "cell_type": "code",
   "execution_count": 6,
   "id": "f7177d23",
   "metadata": {
    "execution": {
     "iopub.execute_input": "2025-09-06T16:18:23.493963Z",
     "iopub.status.busy": "2025-09-06T16:18:23.493645Z",
     "iopub.status.idle": "2025-09-06T16:18:27.398328Z",
     "shell.execute_reply": "2025-09-06T16:18:27.397158Z"
    },
    "papermill": {
     "duration": 3.910478,
     "end_time": "2025-09-06T16:18:27.399951",
     "exception": false,
     "start_time": "2025-09-06T16:18:23.489473",
     "status": "completed"
    },
    "tags": []
   },
   "outputs": [
    {
     "name": "stdout",
     "output_type": "stream",
     "text": [
      "torch.Size([128, 3, 128, 128])\n"
     ]
    }
   ],
   "source": [
    "for images in test_dataloader:\n",
    "    print(images.shape)\n",
    "    break"
   ]
  },
  {
   "cell_type": "markdown",
   "id": "51e88d62",
   "metadata": {
    "papermill": {
     "duration": 0.00249,
     "end_time": "2025-09-06T16:18:27.405305",
     "exception": false,
     "start_time": "2025-09-06T16:18:27.402815",
     "status": "completed"
    },
    "tags": []
   },
   "source": [
    "## CNN"
   ]
  },
  {
   "cell_type": "code",
   "execution_count": 7,
   "id": "dd138838",
   "metadata": {
    "execution": {
     "iopub.execute_input": "2025-09-06T16:18:27.411528Z",
     "iopub.status.busy": "2025-09-06T16:18:27.411260Z",
     "iopub.status.idle": "2025-09-06T16:18:27.419161Z",
     "shell.execute_reply": "2025-09-06T16:18:27.418463Z"
    },
    "papermill": {
     "duration": 0.012551,
     "end_time": "2025-09-06T16:18:27.420511",
     "exception": false,
     "start_time": "2025-09-06T16:18:27.407960",
     "status": "completed"
    },
    "tags": []
   },
   "outputs": [],
   "source": [
    "class CNN(nn.Module):\n",
    "    def __init__(self):\n",
    "        super(CNN, self).__init__()\n",
    "        self.conv1 = nn.Conv2d(3, 256, kernel_size=9, stride=1, padding=4)\n",
    "        self.conv2 = nn.Conv2d(256, 128, kernel_size=9, stride=2, padding=4)\n",
    "        self.conv3 = nn.Conv2d(128, 64, kernel_size=9, stride=2, padding=4)\n",
    "        self.conv4 = nn.Conv2d(64, 32, kernel_size=9, stride=2, padding=4)\n",
    "        self.fc_input_size = self._get_fc_input_size()\n",
    "        self.fc = nn.Linear(self.fc_input_size, 2)\n",
    "        self.softmax = nn.Softmax(dim=1)\n",
    "\n",
    "    def _get_fc_input_size(self):\n",
    "        dummy_input = torch.zeros(1, 3, 128, 128)\n",
    "        x = self.conv1(dummy_input)\n",
    "        x = F.relu(F.max_pool2d(x, 2))\n",
    "        x = F.relu(self.conv2(x))\n",
    "        x = F.relu(F.max_pool2d(x, 2))\n",
    "        x = F.relu(self.conv3(x))\n",
    "        x = F.relu(F.max_pool2d(x, 2))\n",
    "        x = F.relu(self.conv4(x))\n",
    "        x = x.view(x.size(0), -1)\n",
    "        return x.size(1)\n",
    "\n",
    "    def forward(self, x):\n",
    "        x = self.conv1(x)\n",
    "        x = F.relu(F.max_pool2d(x, 2))\n",
    "        x = F.relu(self.conv2(x))\n",
    "        x = F.relu(F.max_pool2d(x, 2))\n",
    "        x = F.relu(self.conv3(x))\n",
    "        x = F.relu(F.max_pool2d(x, 2))\n",
    "        x = F.relu(self.conv4(x))\n",
    "        x = x.view(x.size(0), -1)\n",
    "        x = self.fc(x)\n",
    "        x = self.softmax(x)\n",
    "        return x\n",
    "\n",
    "    def loss(self, output, target):\n",
    "        return F.cross_entropy(output, target)"
   ]
  },
  {
   "cell_type": "code",
   "execution_count": 8,
   "id": "f45b7282",
   "metadata": {
    "execution": {
     "iopub.execute_input": "2025-09-06T16:18:27.426624Z",
     "iopub.status.busy": "2025-09-06T16:18:27.426404Z",
     "iopub.status.idle": "2025-09-06T16:23:07.517751Z",
     "shell.execute_reply": "2025-09-06T16:23:07.516762Z"
    },
    "papermill": {
     "duration": 280.095972,
     "end_time": "2025-09-06T16:23:07.519151",
     "exception": false,
     "start_time": "2025-09-06T16:18:27.423179",
     "status": "completed"
    },
    "tags": []
   },
   "outputs": [
    {
     "name": "stderr",
     "output_type": "stream",
     "text": [
      "100%|██████████| 4/4 [00:20<00:00,  5.11s/it]\n"
     ]
    },
    {
     "name": "stdout",
     "output_type": "stream",
     "text": [
      "Epoch 1/20 - Loss: 0.6972 - Accuracy: 0.5200\n"
     ]
    },
    {
     "name": "stderr",
     "output_type": "stream",
     "text": [
      "100%|██████████| 4/4 [00:13<00:00,  3.47s/it]\n"
     ]
    },
    {
     "name": "stdout",
     "output_type": "stream",
     "text": [
      "Epoch 2/20 - Loss: 0.6059 - Accuracy: 0.6980\n"
     ]
    },
    {
     "name": "stderr",
     "output_type": "stream",
     "text": [
      "100%|██████████| 4/4 [00:14<00:00,  3.51s/it]\n"
     ]
    },
    {
     "name": "stdout",
     "output_type": "stream",
     "text": [
      "Epoch 3/20 - Loss: 0.5191 - Accuracy: 0.7840\n"
     ]
    },
    {
     "name": "stderr",
     "output_type": "stream",
     "text": [
      "100%|██████████| 4/4 [00:13<00:00,  3.43s/it]\n"
     ]
    },
    {
     "name": "stdout",
     "output_type": "stream",
     "text": [
      "Epoch 4/20 - Loss: 0.5027 - Accuracy: 0.7920\n"
     ]
    },
    {
     "name": "stderr",
     "output_type": "stream",
     "text": [
      "100%|██████████| 4/4 [00:13<00:00,  3.44s/it]\n"
     ]
    },
    {
     "name": "stdout",
     "output_type": "stream",
     "text": [
      "Epoch 5/20 - Loss: 0.4911 - Accuracy: 0.8220\n"
     ]
    },
    {
     "name": "stderr",
     "output_type": "stream",
     "text": [
      "100%|██████████| 4/4 [00:13<00:00,  3.49s/it]\n"
     ]
    },
    {
     "name": "stdout",
     "output_type": "stream",
     "text": [
      "Epoch 6/20 - Loss: 0.4967 - Accuracy: 0.8080\n"
     ]
    },
    {
     "name": "stderr",
     "output_type": "stream",
     "text": [
      "100%|██████████| 4/4 [00:13<00:00,  3.49s/it]\n"
     ]
    },
    {
     "name": "stdout",
     "output_type": "stream",
     "text": [
      "Epoch 7/20 - Loss: 0.4630 - Accuracy: 0.8480\n"
     ]
    },
    {
     "name": "stderr",
     "output_type": "stream",
     "text": [
      "100%|██████████| 4/4 [00:13<00:00,  3.38s/it]\n"
     ]
    },
    {
     "name": "stdout",
     "output_type": "stream",
     "text": [
      "Epoch 8/20 - Loss: 0.4777 - Accuracy: 0.8240\n"
     ]
    },
    {
     "name": "stderr",
     "output_type": "stream",
     "text": [
      "100%|██████████| 4/4 [00:13<00:00,  3.35s/it]\n"
     ]
    },
    {
     "name": "stdout",
     "output_type": "stream",
     "text": [
      "Epoch 9/20 - Loss: 0.4577 - Accuracy: 0.8500\n"
     ]
    },
    {
     "name": "stderr",
     "output_type": "stream",
     "text": [
      "100%|██████████| 4/4 [00:13<00:00,  3.39s/it]\n"
     ]
    },
    {
     "name": "stdout",
     "output_type": "stream",
     "text": [
      "Epoch 10/20 - Loss: 0.4338 - Accuracy: 0.8720\n"
     ]
    },
    {
     "name": "stderr",
     "output_type": "stream",
     "text": [
      "100%|██████████| 4/4 [00:13<00:00,  3.45s/it]\n"
     ]
    },
    {
     "name": "stdout",
     "output_type": "stream",
     "text": [
      "Epoch 11/20 - Loss: 0.4037 - Accuracy: 0.9120\n"
     ]
    },
    {
     "name": "stderr",
     "output_type": "stream",
     "text": [
      "100%|██████████| 4/4 [00:13<00:00,  3.40s/it]\n"
     ]
    },
    {
     "name": "stdout",
     "output_type": "stream",
     "text": [
      "Epoch 12/20 - Loss: 0.3970 - Accuracy: 0.9140\n"
     ]
    },
    {
     "name": "stderr",
     "output_type": "stream",
     "text": [
      "100%|██████████| 4/4 [00:13<00:00,  3.41s/it]\n"
     ]
    },
    {
     "name": "stdout",
     "output_type": "stream",
     "text": [
      "Epoch 13/20 - Loss: 0.3705 - Accuracy: 0.9440\n"
     ]
    },
    {
     "name": "stderr",
     "output_type": "stream",
     "text": [
      "100%|██████████| 4/4 [00:13<00:00,  3.36s/it]\n"
     ]
    },
    {
     "name": "stdout",
     "output_type": "stream",
     "text": [
      "Epoch 14/20 - Loss: 0.3564 - Accuracy: 0.9600\n"
     ]
    },
    {
     "name": "stderr",
     "output_type": "stream",
     "text": [
      "100%|██████████| 4/4 [00:13<00:00,  3.33s/it]\n"
     ]
    },
    {
     "name": "stdout",
     "output_type": "stream",
     "text": [
      "Epoch 15/20 - Loss: 0.3557 - Accuracy: 0.9580\n"
     ]
    },
    {
     "name": "stderr",
     "output_type": "stream",
     "text": [
      "100%|██████████| 4/4 [00:13<00:00,  3.40s/it]\n"
     ]
    },
    {
     "name": "stdout",
     "output_type": "stream",
     "text": [
      "Epoch 16/20 - Loss: 0.3612 - Accuracy: 0.9500\n"
     ]
    },
    {
     "name": "stderr",
     "output_type": "stream",
     "text": [
      "100%|██████████| 4/4 [00:13<00:00,  3.36s/it]\n"
     ]
    },
    {
     "name": "stdout",
     "output_type": "stream",
     "text": [
      "Epoch 17/20 - Loss: 0.3533 - Accuracy: 0.9600\n"
     ]
    },
    {
     "name": "stderr",
     "output_type": "stream",
     "text": [
      "100%|██████████| 4/4 [00:13<00:00,  3.36s/it]\n"
     ]
    },
    {
     "name": "stdout",
     "output_type": "stream",
     "text": [
      "Epoch 18/20 - Loss: 0.3554 - Accuracy: 0.9580\n"
     ]
    },
    {
     "name": "stderr",
     "output_type": "stream",
     "text": [
      "100%|██████████| 4/4 [00:13<00:00,  3.40s/it]\n"
     ]
    },
    {
     "name": "stdout",
     "output_type": "stream",
     "text": [
      "Epoch 19/20 - Loss: 0.3643 - Accuracy: 0.9440\n"
     ]
    },
    {
     "name": "stderr",
     "output_type": "stream",
     "text": [
      "100%|██████████| 4/4 [00:13<00:00,  3.35s/it]"
     ]
    },
    {
     "name": "stdout",
     "output_type": "stream",
     "text": [
      "Epoch 20/20 - Loss: 0.3496 - Accuracy: 0.9620\n"
     ]
    },
    {
     "name": "stderr",
     "output_type": "stream",
     "text": [
      "\n"
     ]
    }
   ],
   "source": [
    "cnn = CNN().to(device)\n",
    "optimizer = Adam(cnn.parameters())\n",
    "\n",
    "n_epochs = 20\n",
    "for epoch in range(n_epochs):\n",
    "    cnn.train()\n",
    "    train_loss = 0\n",
    "    correct_train = 0\n",
    "    total_train = 0\n",
    "    for batch_id, (data, target) in enumerate(tqdm(dataloader)):\n",
    "        data, target = data.to(device), target.to(device)\n",
    "\n",
    "        optimizer.zero_grad()\n",
    "        output = cnn(data)\n",
    "        loss = cnn.loss(output, target)\n",
    "        loss.backward()\n",
    "        optimizer.step()\n",
    "\n",
    "        train_loss += loss.item()\n",
    "\n",
    "        _, preds = torch.max(output, 1)\n",
    "        correct_train += preds.eq(target).sum().item()\n",
    "        total_train += target.size(0)\n",
    "    \n",
    "    train_accuracy = correct_train / total_train\n",
    "    avg_train_loss = train_loss / len(dataloader)\n",
    "    print(f\"Epoch {epoch+1}/{n_epochs} - Loss: {avg_train_loss:.4f} - Accuracy: {train_accuracy:.4f}\")"
   ]
  },
  {
   "cell_type": "code",
   "execution_count": 9,
   "id": "0e309bcc",
   "metadata": {
    "execution": {
     "iopub.execute_input": "2025-09-06T16:23:07.540179Z",
     "iopub.status.busy": "2025-09-06T16:23:07.539905Z",
     "iopub.status.idle": "2025-09-06T16:23:10.039814Z",
     "shell.execute_reply": "2025-09-06T16:23:10.038717Z"
    },
    "papermill": {
     "duration": 2.511866,
     "end_time": "2025-09-06T16:23:10.041205",
     "exception": false,
     "start_time": "2025-09-06T16:23:07.529339",
     "status": "completed"
    },
    "tags": []
   },
   "outputs": [
    {
     "name": "stdout",
     "output_type": "stream",
     "text": [
      "Accuracy: 0.0078\n"
     ]
    }
   ],
   "source": [
    "cnn.eval()\n",
    "correct_test = 0\n",
    "total_test = 0\n",
    "\n",
    "for data in test_dataloader:\n",
    "    data = data.to(device)\n",
    "    output = cnn(data)\n",
    "    target = torch.zeros(output.size(0)).float()\n",
    "    target = target.to(device)\n",
    "\n",
    "    _, preds = torch.max(output, 1)\n",
    "    correct_test += preds.eq(target).sum().item()\n",
    "    total_test += target.size(0)\n",
    "\n",
    "test_accuracy = correct_test / total_test\n",
    "print(f\"Accuracy: {test_accuracy:.4f}\")"
   ]
  }
 ],
 "metadata": {
  "kaggle": {
   "accelerator": "nvidiaTeslaT4",
   "dataSources": [
    {
     "datasetId": 885385,
     "sourceId": 1504266,
     "sourceType": "datasetVersion"
    },
    {
     "datasetId": 1170109,
     "sourceId": 1960165,
     "sourceType": "datasetVersion"
    },
    {
     "sourceId": 227433307,
     "sourceType": "kernelVersion"
    }
   ],
   "dockerImageVersionId": 30918,
   "isGpuEnabled": true,
   "isInternetEnabled": true,
   "language": "python",
   "sourceType": "notebook"
  },
  "kernelspec": {
   "display_name": "Python 3",
   "language": "python",
   "name": "python3"
  },
  "language_info": {
   "codemirror_mode": {
    "name": "ipython",
    "version": 3
   },
   "file_extension": ".py",
   "mimetype": "text/x-python",
   "name": "python",
   "nbconvert_exporter": "python",
   "pygments_lexer": "ipython3",
   "version": "3.10.12"
  },
  "papermill": {
   "default_parameters": {},
   "duration": 303.280149,
   "end_time": "2025-09-06T16:23:11.572055",
   "environment_variables": {},
   "exception": null,
   "input_path": "__notebook__.ipynb",
   "output_path": "__notebook__.ipynb",
   "parameters": {},
   "start_time": "2025-09-06T16:18:08.291906",
   "version": "2.6.0"
  }
 },
 "nbformat": 4,
 "nbformat_minor": 5
}
